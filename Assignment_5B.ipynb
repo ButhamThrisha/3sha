{
 "cells": [
  {
   "cell_type": "code",
   "execution_count": 1,
   "metadata": {},
   "outputs": [
    {
     "name": "stdout",
     "output_type": "stream",
     "text": [
      "*** No CODEPAGE record, no encoding_override: will use 'ascii'\n"
     ]
    }
   ],
   "source": [
    "import pandas as pd\n",
    "import numpy as np\n",
    "data= pd.read_excel('Assignment_5.xls')"
   ]
  },
  {
   "cell_type": "code",
   "execution_count": 2,
   "metadata": {},
   "outputs": [
    {
     "data": {
      "text/plain": [
       "X    0.156501\n",
       "Y   -0.706230\n",
       "dtype: float64"
      ]
     },
     "execution_count": 2,
     "metadata": {},
     "output_type": "execute_result"
    }
   ],
   "source": [
    "data.skew()"
   ]
  },
  {
   "cell_type": "code",
   "execution_count": 3,
   "metadata": {},
   "outputs": [
    {
     "data": {
      "text/plain": [
       "-0.17933315467465424"
      ]
     },
     "execution_count": 3,
     "metadata": {},
     "output_type": "execute_result"
    }
   ],
   "source": [
    "log_X=np.log(np.log(np.log(data['X'])))\n",
    "log_X.skew()"
   ]
  },
  {
   "cell_type": "code",
   "execution_count": 4,
   "metadata": {},
   "outputs": [
    {
     "name": "stdout",
     "output_type": "stream",
     "text": [
      "        X      Y\n",
      "0    75.1  577.8\n",
      "1    74.3  577.0\n",
      "2    88.7  570.9\n",
      "3   114.6  578.6\n",
      "4    98.5  572.4\n",
      "5   112.0  411.2\n",
      "6   114.8  531.7\n",
      "7    62.2  563.9\n",
      "8   107.0  406.7\n",
      "9    90.5  507.1\n",
      "10   73.8  496.4\n",
      "11  115.8  505.2\n",
      "12   99.4  506.4\n",
      "13   93.0  510.2\n",
      "14   73.9  503.9\n",
      "15   65.7  506.2\n",
      "16   66.2  506.3\n",
      "17   77.9  510.2\n",
      "18  109.8  508.6\n",
      "19  105.4  510.9\n",
      "20   88.6  505.4\n",
      "21   89.6  512.8\n",
      "22   73.8  502.8\n",
      "23  101.3  493.0\n",
      "24  120.0  510.8\n",
      "25   75.9  512.8\n",
      "26   76.2  513.4\n",
      "27   81.9  510.0\n",
      "28   84.3  504.3\n",
      "29   98.0  522.0\n"
     ]
    }
   ],
   "source": [
    "print(data)"
   ]
  },
  {
   "cell_type": "code",
   "execution_count": 6,
   "metadata": {},
   "outputs": [],
   "source": [
    "x_train=data.iloc[0:26,0]\n",
    "y_train=data.iloc[0:26,0]\n",
    "x_test=data.iloc[26:30,1]\n",
    "y_test=data.iloc[26:31,1]"
   ]
  },
  {
   "cell_type": "code",
   "execution_count": 7,
   "metadata": {},
   "outputs": [],
   "source": [
    "x_train=x_train.iloc[1:].values\n",
    "x_train=x_train.reshape(len(x_train),1)\n",
    "y_train=y_train.iloc[1:].values\n",
    "y_train=y_train.reshape(len(y_train),1)\n",
    "x_test=x_test.iloc[1:].values\n",
    "x_test=x_test.reshape(len(x_test),1)\n",
    "y_test=y_test.iloc[1:].values\n",
    "y_test=y_test.reshape(len(y_test),1)\n"
   ]
  },
  {
   "cell_type": "code",
   "execution_count": 10,
   "metadata": {},
   "outputs": [],
   "source": [
    "def slr_bgd(x,y,epochs):\n",
    "    length=len(x)\n",
    "    i=0\n",
    "    j=0\n",
    "    m=[1]*(length)\n",
    "    c=[1]*(length)\n",
    "    a1=[]\n",
    "    a2=[]\n",
    "    y_pre=[]\n",
    "    while(j<epochs):\n",
    "        while(i<length):\n",
    "            k=(y[i]-(m[i]*x[i])-c[i])\n",
    "            dm=-0.01*(k*x[i])\n",
    "            dc=-0.01*k\n",
    "            m[i]=m[i]+dm\n",
    "            c[i]=c[i]+dc\n",
    "            a1.append(m[i])\n",
    "            a2.append(c[i])\n",
    "            i=i+1\n",
    "        j=j+1\n",
    "    return a1,a2\n",
    "    "
   ]
  },
  {
   "cell_type": "code",
   "execution_count": 11,
   "metadata": {},
   "outputs": [
    {
     "name": "stdout",
     "output_type": "stream",
     "text": [
      "[array([1.743]), array([1.887]), array([2.146]), array([1.985]), array([2.12]), array([2.148]), array([1.622]), array([2.07]), array([1.905]), array([1.738]), array([2.158]), array([1.994]), array([1.93]), array([1.739]), array([1.657]), array([1.662]), array([1.779]), array([2.098]), array([2.054]), array([1.886]), array([1.896]), array([1.738]), array([2.013]), array([2.2]), array([1.759])]\n",
      "[array([1.01]), array([1.01]), array([1.01]), array([1.01]), array([1.01]), array([1.01]), array([1.01]), array([1.01]), array([1.01]), array([1.01]), array([1.01]), array([1.01]), array([1.01]), array([1.01]), array([1.01]), array([1.01]), array([1.01]), array([1.01]), array([1.01]), array([1.01]), array([1.01]), array([1.01]), array([1.01]), array([1.01]), array([1.01])]\n"
     ]
    }
   ],
   "source": [
    "m,c=slr_bgd(x_train,y_train,2)\n",
    "print(m)\n",
    "print(c)"
   ]
  },
  {
   "cell_type": "code",
   "execution_count": 51,
   "metadata": {},
   "outputs": [],
   "source": [
    "i=0\n",
    "y_pred=[]\n",
    "while i<25:\n",
    "    y_predict=(m[i]*x_train[i])-c[i]\n",
    "    y_pred.append(y_predict)\n",
    "    i=i+1"
   ]
  },
  {
   "cell_type": "code",
   "execution_count": 52,
   "metadata": {},
   "outputs": [
    {
     "name": "stdout",
     "output_type": "stream",
     "text": [
      "[array([128.4949]), array([166.3669]), array([244.9216]), array([194.5125]), array([236.43]), array([245.5804]), array([99.8784]), array([220.48]), array([171.3925]), array([127.2544]), array([248.8864]), array([197.1936]), array([178.48]), array([127.5021]), array([107.8549]), array([109.0144]), array([137.5741]), array([229.3504]), array([215.4816]), array([166.0896]), array([168.8716]), array([127.2544]), array([202.9069]), array([262.99]), array([132.4981])]\n"
     ]
    }
   ],
   "source": [
    "print(y_pred)"
   ]
  },
  {
   "cell_type": "code",
   "execution_count": 53,
   "metadata": {},
   "outputs": [],
   "source": [
    "import math\n",
    "from sklearn.metrics import mean_squared_error \n",
    "from sklearn.metrics import mean_absolute_error"
   ]
  },
  {
   "cell_type": "code",
   "execution_count": 54,
   "metadata": {},
   "outputs": [],
   "source": [
    "def accuracy_op(y_train,y_pred):\n",
    "    mse = math.sqrt(mean_squared_error(y_train,y_pred)) \n",
    "    print('Root mean square error', mse) \n",
    "    mse = (mean_squared_error(y_train,y_pred)) \n",
    "    print('Mean square error', mse) \n",
    "    mae=mean_absolute_error(y_train, y_pred)\n",
    "    print('Mean absolute error', mae)   "
   ]
  },
  {
   "cell_type": "code",
   "execution_count": 55,
   "metadata": {},
   "outputs": [
    {
     "name": "stdout",
     "output_type": "stream",
     "text": [
      "Root mean square error 92.00270332056337\n",
      "Mean square error 8464.497418291601\n",
      "Mean absolute error 86.182388\n",
      "None\n"
     ]
    }
   ],
   "source": [
    "print(accuracy_op(y_train,y_pred))"
   ]
  },
  {
   "cell_type": "code",
   "execution_count": 57,
   "metadata": {},
   "outputs": [
    {
     "name": "stdout",
     "output_type": "stream",
     "text": [
      "[array([6.1]), array([6.043]), array([6.22])] [array([1.01]), array([1.01]), array([1.01])]\n"
     ]
    }
   ],
   "source": [
    "m1,c1=slr_bgd(x_test,y_test,2)\n",
    "print(m1,c1)"
   ]
  },
  {
   "cell_type": "code",
   "execution_count": 58,
   "metadata": {},
   "outputs": [],
   "source": [
    "i=0\n",
    "yt_pred=[]\n",
    "while i<3:\n",
    "    yt_predict=(m1[i]*x_test[i])-c1[i]\n",
    "    yt_pred.append(yt_predict)\n",
    "    i=i+1"
   ]
  },
  {
   "cell_type": "code",
   "execution_count": 59,
   "metadata": {},
   "outputs": [
    {
     "name": "stdout",
     "output_type": "stream",
     "text": [
      "[array([3109.99]), array([3046.4749]), array([3245.83])]\n"
     ]
    }
   ],
   "source": [
    "print(yt_pred)"
   ]
  },
  {
   "cell_type": "code",
   "execution_count": 60,
   "metadata": {},
   "outputs": [
    {
     "name": "stdout",
     "output_type": "stream",
     "text": [
      "Root mean square error 2623.093027400414\n",
      "Mean square error 6880617.030396669\n",
      "Mean absolute error 2621.9982999999997\n",
      "None\n"
     ]
    }
   ],
   "source": [
    "print(accuracy_op(y_test,yt_pred))"
   ]
  },
  {
   "cell_type": "code",
   "execution_count": null,
   "metadata": {},
   "outputs": [],
   "source": []
  }
 ],
 "metadata": {
  "kernelspec": {
   "display_name": "Python 3",
   "language": "python",
   "name": "python3"
  },
  "language_info": {
   "codemirror_mode": {
    "name": "ipython",
    "version": 3
   },
   "file_extension": ".py",
   "mimetype": "text/x-python",
   "name": "python",
   "nbconvert_exporter": "python",
   "pygments_lexer": "ipython3",
   "version": "3.7.6"
  }
 },
 "nbformat": 4,
 "nbformat_minor": 4
}
